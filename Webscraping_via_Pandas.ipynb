{
  "nbformat": 4,
  "nbformat_minor": 0,
  "metadata": {
    "colab": {
      "name": "Webscraping via Pandas",
      "provenance": [],
      "authorship_tag": "ABX9TyPftRpdpvGjVdanw902vK1k",
      "include_colab_link": true
    },
    "kernelspec": {
      "name": "python3",
      "display_name": "Python 3"
    },
    "language_info": {
      "name": "python"
    }
  },
  "cells": [
    {
      "cell_type": "markdown",
      "metadata": {
        "id": "view-in-github",
        "colab_type": "text"
      },
      "source": [
        "<a href=\"https://colab.research.google.com/github/PatrickMarinich/Miscellaneous/blob/main/Webscraping_via_Pandas.ipynb\" target=\"_parent\"><img src=\"https://colab.research.google.com/assets/colab-badge.svg\" alt=\"Open In Colab\"/></a>"
      ]
    },
    {
      "cell_type": "code",
      "source": [
        "#Mario Kart World Record Times\n",
        "import pandas as pd\n",
        "url_to_scrape = 'https://www.mkleaderboards.com/mkw/world_records/nonsc/'\n",
        "dfs = pd.read_html(url_to_scrape)\n",
        "df = dfs[0]\n",
        "dfTrackTime = df[df.columns.difference([0,2,5,6,7])]\n",
        "print(dfTrackTime)"
      ],
      "metadata": {
        "colab": {
          "base_uri": "https://localhost:8080/"
        },
        "id": "8NLENnGQmczl",
        "outputId": "ca8c40bb-68fb-4331-e323-77eaeb1d6aa5"
      },
      "execution_count": 15,
      "outputs": [
        {
          "output_type": "stream",
          "name": "stdout",
          "text": [
            "                          1           3         4\n",
            "0                     Track      Player     Score\n",
            "1             Luigi Circuit        Cole  1:08.774\n",
            "2           Moo Moo Meadows       Sosis  1:15.483\n",
            "3            Mushroom Gorge      Connor  1:40.741\n",
            "4            Toad's Factory       Logan  1:49.197\n",
            "5             Mario Circuit         Guy  1:20.357\n",
            "6              Coconut Mall     Braixen  1:55.573\n",
            "7      DK's Snowboard Cross     Blake G  1:45.210\n",
            "8         Wario's Gold Mine  Vincent B.  1:50.579\n",
            "9             Daisy Circuit        Luke  1:28.425\n",
            "10               Koopa Cape        Luke  2:17.937\n",
            "11            Maple Treeway       Demon  2:14.507\n",
            "12          Grumble Volcano      Barney  1:51.384\n",
            "13            Dry Dry Ruins      Justin  1:46.972\n",
            "14         Moonview Highway        Luke  1:43.035\n",
            "15          Bowser's Castle        Zeke  2:20.524\n",
            "16             Rainbow Road       Kaede  2:24.589\n",
            "17          GCN Peach Beach       Kasey  1:12.678\n",
            "18           DS Yoshi Falls       David    58.648\n",
            "19      SNES Ghost Valley 2       Sosis    52.775\n",
            "20        N64 Mario Raceway       Sosis  1:41.198\n",
            "21         N64 Sherbet Land       Sosis  2:03.750\n",
            "22        GBA Shy Guy Beach       Sosis  1:21.496\n",
            "23        DS Delfino Square        Luke  2:03.525\n",
            "24      GCN Waluigi Stadium      Connor  1:48.433\n",
            "25          DS Desert Hills       Sosis  1:34.397\n",
            "26      GBA Bowser Castle 3        Luke  2:16.366\n",
            "27  N64 DK's Jungle Parkway        Luke  2:11.117\n",
            "28        GCN Mario Circuit        Luke  1:30.513\n",
            "29     SNES Mario Circuit 3        Luke  1:17.889\n",
            "30         DS Peach Gardens    KingAlex  1:58.986\n",
            "31          GCN DK Mountain       Logan  2:04.775\n",
            "32      N64 Bowser's Castle        Luke  2:30.637\n"
          ]
        }
      ]
    },
    {
      "cell_type": "code",
      "source": [
        "## TJ Watt Stats\n",
        "import pandas as pd\n",
        "url_to_scrape = 'https://www.pro-football-reference.com/players/W/WattT.00.htm'\n",
        "dfs = pd.read_html(url_to_scrape)\n",
        "df = dfs[1]\n",
        "print(df)\n",
        "print(\"Career Stats\")\n",
        "print(df.loc[5])"
      ],
      "metadata": {
        "colab": {
          "base_uri": "https://localhost:8080/"
        },
        "id": "soa4xTp5plvl",
        "outputId": "00e91e29-1e4d-42fa-fa9d-02ef2eacb044"
      },
      "execution_count": 16,
      "outputs": [
        {
          "output_type": "stream",
          "name": "stdout",
          "text": [
            "  Unnamed: 0_level_0 Unnamed: 1_level_0  ... Unnamed: 23_level_0 Unnamed: 24_level_0\n",
            "                Year                Age  ...                Sfty                  AV\n",
            "0               2017                 23  ...                 NaN                   7\n",
            "1              2018*                 24  ...                 NaN                  11\n",
            "2             2019*+                 25  ...                 NaN                  14\n",
            "3             2020*+                 26  ...                 NaN                  18\n",
            "4             2021*+                 27  ...                 NaN                  15\n",
            "5             Career             Career  ...                 NaN                  65\n",
            "\n",
            "[6 rows x 25 columns]\n",
            "Career Stats\n",
            "Unnamed: 0_level_0   Year      Career\n",
            "Unnamed: 1_level_0   Age       Career\n",
            "Unnamed: 2_level_0   Tm           NaN\n",
            "Unnamed: 3_level_0   Pos          NaN\n",
            "Unnamed: 4_level_0   No.          NaN\n",
            "Games                G             77\n",
            "                     GS            77\n",
            "Def Interceptions    Int            4\n",
            "                     Yds           24\n",
            "                     TD             0\n",
            "                     Lng           17\n",
            "                     PD            32\n",
            "Fumbles              FF            22\n",
            "                     Fmb            0\n",
            "                     FR             7\n",
            "                     Yds            1\n",
            "                     TD             0\n",
            "Unnamed: 17_level_0  Sk            72\n",
            "Tackles              Comb         294\n",
            "                     Solo         216\n",
            "                     Ast           78\n",
            "                     TFL           80\n",
            "                     QBHits       150\n",
            "Unnamed: 23_level_0  Sfty         NaN\n",
            "Unnamed: 24_level_0  AV            65\n",
            "Name: 5, dtype: object\n"
          ]
        }
      ]
    },
    {
      "cell_type": "code",
      "source": [
        "## Minkah FitzPatrick Stats\n",
        "import pandas as pd\n",
        "url_to_scrape = 'https://www.pro-football-reference.com/players/F/FitzMi00.htm'\n",
        "dfs = pd.read_html(url_to_scrape)\n",
        "df = dfs[1]\n",
        "print(df)\n",
        "print(\"Career Stats\")\n",
        "print(df.loc[6])\n"
      ],
      "metadata": {
        "colab": {
          "base_uri": "https://localhost:8080/"
        },
        "id": "W25UtZK_L2M6",
        "outputId": "5257208e-a6b1-4367-b07c-9675885db28f"
      },
      "execution_count": 17,
      "outputs": [
        {
          "output_type": "stream",
          "name": "stdout",
          "text": [
            "  Unnamed: 0_level_0 Unnamed: 1_level_0  ... Unnamed: 23_level_0 Unnamed: 24_level_0\n",
            "                Year                Age  ...                Sfty                  AV\n",
            "0               2018                 22  ...                 NaN                   4\n",
            "1             2019*+                 23  ...                 NaN                  16\n",
            "2                 *+                NaN  ...                 NaN                   1\n",
            "3                 *+                NaN  ...                 NaN                  15\n",
            "4             2020*+                 24  ...                 NaN                  14\n",
            "5               2021                 25  ...                 NaN                   6\n",
            "6             Career             Career  ...                 NaN                  40\n",
            "7              3 yrs              3 yrs  ...                 NaN                  35\n",
            "8              2 yrs              2 yrs  ...                 NaN                   5\n",
            "\n",
            "[9 rows x 25 columns]\n",
            "Career Stats\n",
            "Unnamed: 0_level_0   Year      Career\n",
            "Unnamed: 1_level_0   Age       Career\n",
            "Unnamed: 2_level_0   Tm           NaN\n",
            "Unnamed: 3_level_0   Pos          NaN\n",
            "Unnamed: 4_level_0   No.          NaN\n",
            "Games                G             64\n",
            "                     GS            59\n",
            "Def Interceptions    Int           13\n",
            "                     Yds          289\n",
            "                     TD             3\n",
            "                     Lng           96\n",
            "                     PD            36\n",
            "Fumbles              FF             4\n",
            "                     Fmb            0\n",
            "                     FR             5\n",
            "                     Yds           77\n",
            "                     TD             1\n",
            "Unnamed: 17_level_0  Sk             0\n",
            "Tackles              Comb         352\n",
            "                     Solo         239\n",
            "                     Ast          113\n",
            "                     TFL            5\n",
            "                     QBHits         1\n",
            "Unnamed: 23_level_0  Sfty         NaN\n",
            "Unnamed: 24_level_0  AV            40\n",
            "Name: 6, dtype: object\n"
          ]
        }
      ]
    },
    {
      "cell_type": "code",
      "source": [
        "## Arron Rodgers Stats\n",
        "import pandas as pd\n",
        "url_to_scrape = 'https://www.pro-football-reference.com/players/R/RodgAa00.htm'\n",
        "dfs = pd.read_html(url_to_scrape)\n",
        "df = dfs[1]\n",
        "print(df)\n",
        "print(\"Career Stats\")\n",
        "print(df.loc[17])"
      ],
      "metadata": {
        "id": "odADzfP-MQnj",
        "colab": {
          "base_uri": "https://localhost:8080/"
        },
        "outputId": "6a4a77d4-4cc9-4f59-a23a-e0984f79399b"
      },
      "execution_count": 18,
      "outputs": [
        {
          "output_type": "stream",
          "name": "stdout",
          "text": [
            "      Year     Age   Tm  Pos   No.    G  ...   Sk%  NY/A  ANY/A   4QC   GWD   AV\n",
            "0     2005      22  GNB  NaN  12.0    3  ...  15.8  1.95  -0.42   NaN   NaN    0\n",
            "1     2006      23  GNB  NaN  12.0    2  ...  16.7  1.56   1.56   NaN   NaN    0\n",
            "2     2007      24  GNB  NaN  12.0    2  ...   9.7  6.26   6.90   NaN   NaN    1\n",
            "3     2008      25  GNB   QB  12.0   16  ...   6.0  6.68   6.64   1.0   2.0   15\n",
            "4    2009*      26  GNB   QB  12.0   16  ...   8.5  6.98   7.47   2.0   2.0   19\n",
            "5     2010      27  GNB   QB  12.0   15  ...   6.1  7.37   7.50   0.0   1.0   15\n",
            "6   2011*+      28  GNB   QB  12.0   15  ...   6.7  8.22   9.39   0.0   1.0   23\n",
            "7    2012*      29  GNB   QB  12.0   16  ...   8.5  6.64   7.33   2.0   3.0   16\n",
            "8     2013      30  GNB   QB  12.0    9  ...   6.8  7.78   8.00   1.0   1.0    9\n",
            "9   2014*+      31  GNB   QB  12.0   16  ...   5.1  7.68   8.65   1.0   1.0   22\n",
            "10   2015*      32  GNB   QB  12.0   16  ...   7.4  5.67   6.10   2.0   2.0   14\n",
            "11   2016*      33  GNB   QB  12.0   16  ...   5.4  6.48   7.24   0.0   2.0   18\n",
            "12    2017      34  GNB   qb  12.0    7  ...   8.5  5.80   5.99   2.0   2.0    6\n",
            "13   2018*      35  GNB   QB  12.0   16  ...   7.6  6.33   6.96   3.0   3.0   13\n",
            "14   2019*      36  GNB   QB  12.0   16  ...   6.0  6.15   6.71   2.0   3.0   14\n",
            "15  2020*+      37  GNB   QB  12.0   16  ...   3.7  7.54   8.89   1.0   2.0   18\n",
            "16  2021*+      38  GNB   QB  12.0   16  ...   5.3  7.00   8.00   1.0   2.0   15\n",
            "17  Career  Career  NaN  NaN   NaN  213  ...   6.5  6.83   7.46  18.0  27.0  218\n",
            "\n",
            "[18 rows x 32 columns]\n",
            "Career Stats\n",
            "Year       Career\n",
            "Age        Career\n",
            "Tm            NaN\n",
            "Pos           NaN\n",
            "No.           NaN\n",
            "G             213\n",
            "GS            206\n",
            "QBrec    139-66-1\n",
            "Cmp          4651\n",
            "Att          7118\n",
            "Cmp%         65.3\n",
            "Yds         55360\n",
            "TD            449\n",
            "TD%           6.3\n",
            "Int            93\n",
            "Int%          1.3\n",
            "1D           2639\n",
            "Lng            93\n",
            "Y/A           7.8\n",
            "AY/A          8.5\n",
            "Y/C          11.9\n",
            "Y/G         259.9\n",
            "Rate        104.5\n",
            "QBR           NaN\n",
            "Sk            498\n",
            "Yds.1        3338\n",
            "Sk%           6.5\n",
            "NY/A         6.83\n",
            "ANY/A        7.46\n",
            "4QC            18\n",
            "GWD            27\n",
            "AV            218\n",
            "Name: 17, dtype: object\n"
          ]
        }
      ]
    },
    {
      "cell_type": "code",
      "source": [
        "#Mike Trout stats, includes minor leagues\n",
        "import pandas as pd\n",
        "url = 'https://www.baseball-reference.com/players/t/troutmi01.shtml'\n",
        "dfs = pd.read_html(url)\n",
        "df = dfs[0]\n",
        "print(df)\n",
        "print(\"2016 Stats\")\n",
        "print(df.loc[[9]])"
      ],
      "metadata": {
        "colab": {
          "base_uri": "https://localhost:8080/"
        },
        "id": "JaTXU6L8ttum",
        "outputId": "09d21717-7109-4789-8bdf-87b2421c665f"
      },
      "execution_count": 19,
      "outputs": [
        {
          "output_type": "stream",
          "name": "stdout",
          "text": [
            "             Year            Age  ...     Pos               Awards\n",
            "0            2009             17  ...     NaN  ANG,CDR · ARIZ,MIDW\n",
            "1            2010             18  ...     NaN  CDR,RCU · MIDW,CALL\n",
            "2            2011             19  ...     NaN             ARK · TL\n",
            "3            2011             19  ...  897/HD                  NaN\n",
            "4            2012             20  ...     NaN            SLK · PCL\n",
            "5            2012             20  ...  *87/9H    AS,MVP-2,RoY-1,SS\n",
            "6            2013             21  ...   *87/D          AS,MVP-2,SS\n",
            "7            2014             22  ...    *8/D          AS,MVP-1,SS\n",
            "8            2015             23  ...    *8/D          AS,MVP-2,SS\n",
            "9            2016             24  ...   *8D/H          AS,MVP-1,SS\n",
            "10           2017             25  ...     NaN           SBR · CALL\n",
            "11           2017             25  ...     8/D             AS,MVP-4\n",
            "12           2018             26  ...   *8D/H          AS,MVP-2,SS\n",
            "13           2019             27  ...   *8D/H          AS,MVP-1,SS\n",
            "14           2020             28  ...    *8/D             MVP-5,SS\n",
            "15           2021             29  ...       8                   AS\n",
            "16         11 Yrs         11 Yrs  ...     NaN                  NaN\n",
            "17  162 Game Avg.  162 Game Avg.  ...     NaN                  NaN\n",
            "\n",
            "[18 rows x 30 columns]\n",
            "2016 Stats\n",
            "   Year Age   Tm  Lg    G   PA   AB  ...  GDP  HBP  SH  SF  IBB    Pos       Awards\n",
            "9  2016  24  LAA  AL  159  681  549  ...    5   11   0   5   12  *8D/H  AS,MVP-1,SS\n",
            "\n",
            "[1 rows x 30 columns]\n"
          ]
        }
      ]
    },
    {
      "cell_type": "code",
      "source": [
        "#Derek Jeter, includes minor leagues\n",
        "import pandas as pd\n",
        "url = 'https://www.baseball-reference.com/players/j/jeterde01.shtml'\n",
        "dfs = pd.read_html(url)\n",
        "df = dfs[0]\n",
        "print(df)\n",
        "print(\"2009 Stats\")\n",
        "print(df.loc[[21]])"
      ],
      "metadata": {
        "colab": {
          "base_uri": "https://localhost:8080/"
        },
        "id": "pf79Emy5wVCE",
        "outputId": "51d3e862-61b1-4f9a-a9fe-567ec4a7dcca"
      },
      "execution_count": 20,
      "outputs": [
        {
          "output_type": "stream",
          "name": "stdout",
          "text": [
            "             Year            Age  ...    Pos                    Awards\n",
            "0            1992             18  ...    NaN       YNK,GBO · GULF,SALL\n",
            "1            1993             19  ...    NaN                GBO · SALL\n",
            "2            1994             20  ...    NaN  TAM,CLB,ALC · FLOR,IL,EL\n",
            "3            1995             21  ...    NaN                  CLB · IL\n",
            "4            1995             21  ...      6                       NaN\n",
            "5            1996             22  ...     *6                     RoY-1\n",
            "6            1997             23  ...     *6                    MVP-24\n",
            "7            1998             24  ...    NaN                  CLB · IL\n",
            "8            1998             24  ...   *6/H                  AS,MVP-3\n",
            "9            1999             25  ...     *6                  AS,MVP-6\n",
            "10           2000             26  ...    NaN                TAM · FLOR\n",
            "11           2000             26  ...     *6                 AS,MVP-10\n",
            "12           2001             27  ...     *6                 AS,MVP-10\n",
            "13           2002             28  ...   *6/D                        AS\n",
            "14           2003             29  ...    NaN                  TRE · EL\n",
            "15           2003             29  ...   *6/H                    MVP-21\n",
            "16           2004             30  ...     *6              AS,MVP-13,GG\n",
            "17           2005             31  ...  *6/DH                 MVP-10,GG\n",
            "18           2006             32  ...   *6/D            AS,MVP-2,GG,SS\n",
            "19           2007             33  ...   *6/H              AS,MVP-11,SS\n",
            "20           2008             34  ...   *6/D                     AS,SS\n",
            "21           2009             35  ...  *6/DH            AS,MVP-3,GG,SS\n",
            "22           2010             36  ...  *6/DH                     AS,GG\n",
            "23           2011             37  ...    NaN                  TRE · EL\n",
            "24           2011             37  ...    *6D                        AS\n",
            "25           2012             38  ...    *6D               AS,MVP-7,SS\n",
            "26           2013             39  ...    NaN                  SWB · IL\n",
            "27           2013             39  ...    6/D                       NaN\n",
            "28           2014             40  ...  *6D/H                        AS\n",
            "29         20 Yrs         20 Yrs  ...    NaN                       NaN\n",
            "30  162 Game Avg.  162 Game Avg.  ...    NaN                       NaN\n",
            "31            NaN            NaN  ...    Pos                    Awards\n",
            "\n",
            "[32 rows x 30 columns]\n",
            "2009 Stats\n",
            "    Year Age   Tm  Lg    G   PA   AB  ... GDP HBP SH SF IBB    Pos          Awards\n",
            "21  2009  35  NYY  AL  153  716  634  ...  18   5  4  1   4  *6/DH  AS,MVP-3,GG,SS\n",
            "\n",
            "[1 rows x 30 columns]\n"
          ]
        }
      ]
    }
  ]
}